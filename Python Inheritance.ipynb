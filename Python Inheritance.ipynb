{
 "cells": [
  {
   "attachments": {},
   "cell_type": "markdown",
   "metadata": {},
   "source": [
    "<H1>Inheritance</H1>"
   ]
  },
  {
   "attachments": {},
   "cell_type": "markdown",
   "metadata": {},
   "source": [
    "<h3>Inheritance is the way of which child class inherits the properties of the super class. In python Inheritance is a relationship. We use inherinace only if there exixts the relationship between two classes. <h3>"
   ]
  },
  {
   "cell_type": "code",
   "execution_count": 4,
   "metadata": {},
   "outputs": [],
   "source": [
    "#the __init__() function is called automatically every time the class is being used to create a new object.\n",
    "class Person:\n",
    "    book = 123\n",
    "    def __init__(self, fname, lname):\n",
    "        self.firstname = fname\n",
    "        self.lastname = lname\n",
    "\n",
    "    def printname(self):\n",
    "        \n",
    "        print(self.firstname, self.lastname)\n",
    "    \n",
    "x = Person(\"Swastika\", \"Banskota\")\n",
    "    "
   ]
  },
  {
   "cell_type": "code",
   "execution_count": 5,
   "metadata": {},
   "outputs": [
    {
     "name": "stdout",
     "output_type": "stream",
     "text": [
      "Swastika Banskota\n"
     ]
    }
   ],
   "source": [
    "x.printname()\n",
    "# x.firstname"
   ]
  },
  {
   "cell_type": "code",
   "execution_count": 6,
   "metadata": {},
   "outputs": [],
   "source": [
    "class Student(Person):\n",
    "    def __init__(self, fname, lname):\n",
    "        self.fname = fname\n",
    "        self.lname = lname \n",
    "        # Person.__init__(self, fname, lname)"
   ]
  },
  {
   "cell_type": "code",
   "execution_count": 7,
   "metadata": {},
   "outputs": [],
   "source": [
    "obj = Student('Swastika','Banskota')"
   ]
  },
  {
   "cell_type": "code",
   "execution_count": 8,
   "metadata": {},
   "outputs": [
    {
     "data": {
      "text/plain": [
       "('Swastika', 'Banskota')"
      ]
     },
     "execution_count": 8,
     "metadata": {},
     "output_type": "execute_result"
    }
   ],
   "source": [
    "obj.fname, obj.lname"
   ]
  },
  {
   "cell_type": "code",
   "execution_count": 9,
   "metadata": {},
   "outputs": [
    {
     "name": "stdout",
     "output_type": "stream",
     "text": [
      "Bark\n"
     ]
    }
   ],
   "source": [
    "class Animal:\n",
    "    def __init__(self, name, sound):\n",
    "        self.name = name\n",
    "        self.sound = sound\n",
    "    \n",
    "    def make_sound(self):\n",
    "        print(self.sound)\n",
    "\n",
    "x = Animal(\"Dog\", \"Bark\")\n",
    "x.make_sound()   "
   ]
  },
  {
   "cell_type": "code",
   "execution_count": 10,
   "metadata": {},
   "outputs": [],
   "source": [
    "class Dog(Animal): #subclass Dog inheriting the properties \n",
    "    pass #here i am using the pass keyword because I don't want to use any method or properties here\n",
    "#and now the Dog class has the same properties and methods as the Animal Class\n"
   ]
  },
  {
   "cell_type": "code",
   "execution_count": 11,
   "metadata": {},
   "outputs": [
    {
     "name": "stdout",
     "output_type": "stream",
     "text": [
      "Bark\n"
     ]
    }
   ],
   "source": [
    "x = Dog(\"Dog\", \"Bark\") #using the Dog class to create an object\n",
    "x.make_sound() #executing make_sound method"
   ]
  },
  {
   "cell_type": "code",
   "execution_count": 12,
   "metadata": {},
   "outputs": [],
   "source": [
    "#to add any method or properties inplace of pass keyword\n",
    "#when we add the __init__() function in child class, the child class will no longer inherit the parent's __init__ function.\n",
    "#the child __init__() function overrides the inheritance of the parent's __init__() function.\n",
    "\n",
    "class Dog(Animal):\n",
    "    def __init__(self, name, sound):\n",
    "        Animal.__init__(name, sound) #however, to keep the inheritance of the parent's __init__() finction, we add a call to the parent's __init__() function\n",
    "\n"
   ]
  },
  {
   "cell_type": "code",
   "execution_count": 13,
   "metadata": {},
   "outputs": [],
   "source": [
    "#super() function allows the child class to inherit all the methods and properties from its parents.\n",
    "\n",
    "class Dog(Animal):\n",
    "    def __init__ (self, name, sound):\n",
    "        super().__init__(name, sound) #with super() function, it is not necessary to use the name of the parent element, it automatically inherits the methods and propertie from its parent."
   ]
  },
  {
   "cell_type": "code",
   "execution_count": 26,
   "metadata": {},
   "outputs": [
    {
     "name": "stdout",
     "output_type": "stream",
     "text": [
      "Meau\n",
      "Blue\n"
     ]
    }
   ],
   "source": [
    "#Adding parameters\n",
    "\n",
    "class Cat(Animal):\n",
    "    def __init__(self, name, sound, color):\n",
    "        super().__init__(name, sound)\n",
    "        self.catcolor = color\n",
    "\n",
    "x = Cat(\"Russian Blue\", \"Meau\", \"Blue\")\n",
    "x.make_sound()\n",
    "print(x.catcolor)"
   ]
  },
  {
   "cell_type": "code",
   "execution_count": 39,
   "metadata": {},
   "outputs": [
    {
     "name": "stdout",
     "output_type": "stream",
     "text": [
      "I own a Russian Blue . It makes a Meau sound. And it is Grey in color.\n"
     ]
    }
   ],
   "source": [
    "#Adding Methods\n",
    "\n",
    "class Cat(Animal):\n",
    "    def __init__(self, name, sound, color):\n",
    "        super().__init__(name, sound)\n",
    "        self.catcolor = color\n",
    "\n",
    "    def method(self):\n",
    "        print(\"I own a\", self.name, \". It makes a\", self.sound, \"sound. And it is\", self.catcolor, \"in color.\")\n",
    "\n",
    "x = Cat(\"Russian Blue\", \"Meau\", \"Grey\")\n",
    "x.method()"
   ]
  },
  {
   "attachments": {},
   "cell_type": "markdown",
   "metadata": {},
   "source": [
    "<h2>Syntax of Inheritance</h2>"
   ]
  },
  {
   "cell_type": "code",
   "execution_count": 43,
   "metadata": {},
   "outputs": [],
   "source": [
    "# #defining a super class\n",
    "# class super_class:\n",
    "#     #attributes and method definition\n",
    "    \n",
    "# #Inherirance\n",
    "# class sub_class(super_class):\n",
    "#     #attributes of super class\n",
    "#     #attributes of sub class"
   ]
  },
  {
   "cell_type": "code",
   "execution_count": 49,
   "metadata": {},
   "outputs": [
    {
     "name": "stdout",
     "output_type": "stream",
     "text": [
      "It is eating\n",
      "The name of the dog is: Pog\n"
     ]
    }
   ],
   "source": [
    "class Animal:\n",
    "    #attribute and method of the parent class\n",
    "    name = \"\" #attribute\n",
    "\n",
    "    def eat(self):\n",
    "        print(\"It is eating\") #method\n",
    "\n",
    "class Dog(Animal): #inheriting from Animal\n",
    "    def print(self): #child class method \n",
    "        print(\"The name of the dog is:\", self.name) #accessing the name attribute from tye parent class using self \n",
    "\n",
    "x= Dog() #object of dog .i.e. object of the subclass\n",
    "x.name = \"Pog\" #accessing the attribute of the super class\n",
    "x.eat() #accessing the method of the super calss\n",
    "x.print() #calling subclass method"
   ]
  },
  {
   "attachments": {},
   "cell_type": "markdown",
   "metadata": {},
   "source": [
    "<H2>Method Overriding in Python Inheritance</h2>\n",
    "\n",
    "Having same method in sub class and super class overrides the method in the superclass, thus the concept is known as Method Overriding."
   ]
  },
  {
   "cell_type": "code",
   "execution_count": 63,
   "metadata": {},
   "outputs": [
    {
     "name": "stdout",
     "output_type": "stream",
     "text": [
      "I am eatingggggggg.....\n"
     ]
    }
   ],
   "source": [
    "class Animal:\n",
    "    name = \"\"\n",
    "\n",
    "    def eat(self):\n",
    "        print(\"I am eating.....\")\n",
    "    \n",
    "class Dog(Animal):\n",
    "\n",
    "    def eat(self):\n",
    "        print(\"I am eatingggggggg.....\")\n",
    "\n",
    "x = Dog()\n",
    "x.eat()"
   ]
  },
  {
   "attachments": {},
   "cell_type": "markdown",
   "metadata": {},
   "source": [
    "In above code, the eat() method is used in both of the classes, thus when we used the object of the Dog class to call the method, thus it prints what's there in the Dog class eat() method. The eat() method of the Dog class overrides the eat() method of Animal class. Thus to access the super class method or to solve the overring of methods, <h2>super()</h2>keyword is used. "
   ]
  },
  {
   "cell_type": "code",
   "execution_count": 65,
   "metadata": {},
   "outputs": [
    {
     "name": "stdout",
     "output_type": "stream",
     "text": [
      "I am eating.....\n",
      "I am eatingggggggg.....\n"
     ]
    }
   ],
   "source": [
    "class Animal:\n",
    "    name = \"\"\n",
    "\n",
    "    def eat(self):\n",
    "        print(\"I am eating.....\")\n",
    "    \n",
    "class Dog(Animal):\n",
    "\n",
    "    def eat(self):\n",
    "        super().eat() #calling the method of super class using super function.\n",
    "        print(\"I am eatingggggggg.....\")\n",
    "\n",
    "x = Dog()\n",
    "x.eat()"
   ]
  },
  {
   "attachments": {},
   "cell_type": "markdown",
   "metadata": {},
   "source": [
    "<H2>Method Overloading</h2>\n",
    "\n",
    "In Python, we cannot have multiple methods with the same name.\n",
    "\n",
    "However, in Python, Overloading is a method or operator that can do different functionalities with the same name."
   ]
  },
  {
   "cell_type": "code",
   "execution_count": 87,
   "metadata": {},
   "outputs": [],
   "source": [
    "class Animal:\n",
    "    def __init__(self):\n",
    "        pass\n",
    "        # self.fname = fname \n",
    "        # self.lname = lname \n",
    "        # self.address = address \n",
    "\n",
    "    def intro(self, fname, lname):\n",
    "        print(\"I am \", fname, lname)\n",
    "\n",
    "    def intro(self, fname, lname, address=None):\n",
    "        if address:\n",
    "            print(fname, lname, address)\n",
    "        else:\n",
    "            print(fname, lname,address)\n",
    "    \n",
    "\n",
    "x = Animal()"
   ]
  },
  {
   "attachments": {},
   "cell_type": "markdown",
   "metadata": {},
   "source": [
    "<h3> Just checking what happens if we do not use init method and just define function. </h3>\n",
    "\n",
    "You can see the difference by uncommenting the below defineAmount() function"
   ]
  },
  {
   "cell_type": "code",
   "execution_count": 109,
   "metadata": {},
   "outputs": [],
   "source": [
    "class Test:\n",
    "    def __init__(self,amount):\n",
    "        self.amount = amount \n",
    "    # def defineAmount(self,amount):  \n",
    "    #     self.amount = amount\n",
    "    def displayAmount(self):\n",
    "        print(f'your amount is ${self.amount}')"
   ]
  },
  {
   "cell_type": "code",
   "execution_count": 113,
   "metadata": {},
   "outputs": [],
   "source": [
    "t = Test(90)  #if you are using init you need to pass the argument"
   ]
  },
  {
   "cell_type": "code",
   "execution_count": 115,
   "metadata": {},
   "outputs": [],
   "source": [
    "# t.defineAmount(90) #however when you are not using init, you no need to pass argument as t = Test(), however you need to pass the argument in the function"
   ]
  },
  {
   "cell_type": "code",
   "execution_count": 116,
   "metadata": {},
   "outputs": [
    {
     "data": {
      "text/plain": [
       "90"
      ]
     },
     "execution_count": 116,
     "metadata": {},
     "output_type": "execute_result"
    }
   ],
   "source": [
    "t.amount"
   ]
  },
  {
   "cell_type": "code",
   "execution_count": 117,
   "metadata": {},
   "outputs": [
    {
     "name": "stdout",
     "output_type": "stream",
     "text": [
      "your amount is $90\n"
     ]
    }
   ],
   "source": [
    "t.displayAmount()"
   ]
  },
  {
   "cell_type": "code",
   "execution_count": 118,
   "metadata": {},
   "outputs": [
    {
     "name": "stdout",
     "output_type": "stream",
     "text": [
      "your amount is $90\n"
     ]
    }
   ],
   "source": [
    "t.displayAmount()"
   ]
  },
  {
   "cell_type": "code",
   "execution_count": 119,
   "metadata": {},
   "outputs": [
    {
     "name": "stdout",
     "output_type": "stream",
     "text": [
      "banana patrika kirtipur\n"
     ]
    }
   ],
   "source": [
    "x.intro('banana','patrika','kirtipur')"
   ]
  },
  {
   "attachments": {},
   "cell_type": "markdown",
   "metadata": {},
   "source": [
    "<h2>Advantages of Inheritance</h2>\n",
    "\n",
    "1. As parent class methods and class can be inherited by the child class, thus it increases the code reusability.\n",
    "2. As we can add own functionalities in the child class, we can only inherit the needed methods and properties from the parent class. "
   ]
  }
 ],
 "metadata": {
  "kernelspec": {
   "display_name": "testproject",
   "language": "python",
   "name": "python3"
  },
  "language_info": {
   "codemirror_mode": {
    "name": "ipython",
    "version": 3
   },
   "file_extension": ".py",
   "mimetype": "text/x-python",
   "name": "python",
   "nbconvert_exporter": "python",
   "pygments_lexer": "ipython3",
   "version": "3.9.0"
  },
  "orig_nbformat": 4
 },
 "nbformat": 4,
 "nbformat_minor": 2
}
