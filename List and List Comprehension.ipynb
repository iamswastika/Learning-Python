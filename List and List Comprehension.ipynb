{
 "cells": [
  {
   "cell_type": "markdown",
   "id": "b5f1f546",
   "metadata": {},
   "source": [
    "<h1>Working with List and List Comprehension.</h1>\n",
    "\n",
    "List Comprehension is an elegant way to create lists based on the existing list."
   ]
  },
  {
   "cell_type": "markdown",
   "id": "113929e7",
   "metadata": {},
   "source": [
    "<h1>List</h1>"
   ]
  },
  {
   "cell_type": "code",
   "execution_count": 13,
   "id": "1b48ddcb",
   "metadata": {},
   "outputs": [
    {
     "name": "stdout",
     "output_type": "stream",
     "text": [
      "['orange', 'orange', 'orange', 'orange']\n"
     ]
    }
   ],
   "source": [
    "squares = ['orange', 'orange', 'purple', 'blue', 'orange']\n",
    "new_squares = []\n",
    "\n",
    "L = len(squares)\n",
    "while(L>=0):\n",
    "    if squares[L-1]=='orange':\n",
    "        new_squares.append(squares[L-1])\n",
    "#     else:\n",
    "#         break\n",
    "    \n",
    "    L = L-1\n",
    "        \n",
    "print(new_squares)\n",
    "    "
   ]
  },
  {
   "cell_type": "code",
   "execution_count": 22,
   "id": "59a162f9",
   "metadata": {},
   "outputs": [
    {
     "name": "stdout",
     "output_type": "stream",
     "text": [
      "['orange', 'orange']\n"
     ]
    }
   ],
   "source": [
    "squares = ['orange', 'orange', 'purple', 'blue', 'orange']\n",
    "new_squares = []\n",
    "\n",
    "i = 0\n",
    "squares[i]\n",
    "while(squares[i]=='orange'):\n",
    "    new_squares.append(squares[i])\n",
    "    i = i+1\n",
    "print(new_squares)"
   ]
  },
  {
   "cell_type": "markdown",
   "id": "b564dc02",
   "metadata": {},
   "source": [
    "Q. Your little brother has just learned multiplication tables in school. Today he has learned tables of 6 and 7. Help him memorise both the tables by printing them using for loop."
   ]
  },
  {
   "cell_type": "code",
   "execution_count": 31,
   "id": "9e1514f3",
   "metadata": {},
   "outputs": [
    {
     "name": "stdout",
     "output_type": "stream",
     "text": [
      "Multiplication of 6\n",
      "\n",
      "0\n",
      "6\n",
      "12\n",
      "18\n",
      "24\n",
      "30\n",
      "36\n",
      "42\n",
      "48\n",
      "54\n",
      "60\n",
      "\n",
      "Multiplication of 7\n",
      "\n",
      "0\n",
      "7\n",
      "14\n",
      "21\n",
      "28\n",
      "35\n",
      "42\n",
      "49\n",
      "56\n",
      "63\n",
      "70\n"
     ]
    }
   ],
   "source": [
    "a = [0, 1, 2, 3, 4, 5, 6, 7, 8, 9, 10]\n",
    "\n",
    "print(\"Multiplication of 6\\n\")\n",
    "\n",
    "for i in a:\n",
    "    print(i*6)\n",
    "    \n",
    "print(\"\\nMultiplication of 7\\n\")\n",
    "    \n",
    "for i in a:\n",
    "    print(i*7)\n",
    "    \n"
   ]
  },
  {
   "cell_type": "markdown",
   "id": "d5247c82",
   "metadata": {},
   "source": [
    "Q. The following is a list of animals in a National Zoo. Animals = [\"lion\", \"giraffe\", \"gorilla\", \"parrots\", \"crocodile\",\"deer\", \"swan\"]\n",
    "\n",
    "Your brother needs to write an essay on the animals whose names are made of 7 letters. Help him find those animals through a while loop and create a separate list of such animals."
   ]
  },
  {
   "cell_type": "code",
   "execution_count": 19,
   "id": "67927d3f",
   "metadata": {},
   "outputs": [
    {
     "name": "stdout",
     "output_type": "stream",
     "text": [
      "['giraffe', 'gorilla', 'parrots']\n"
     ]
    }
   ],
   "source": [
    "animals = [\"lion\", \"giraffe\", \"gorilla\", \"parrots\", \"crocodile\",\"deer\", \"swan\"]\n",
    "seven_animals = []\n",
    "\n",
    "i = 0\n",
    "\n",
    "while(i!=len(animals)-1):\n",
    "    if(len(animals[i])==7):\n",
    "        seven_animals.append(animals[i])\n",
    "    i=i+1\n",
    "    \n",
    "print(seven_animals)\n",
    "    \n",
    "\n",
    "    \n",
    "\n",
    "\n"
   ]
  },
  {
   "cell_type": "code",
   "execution_count": 12,
   "id": "06b0cf66",
   "metadata": {},
   "outputs": [
    {
     "name": "stdout",
     "output_type": "stream",
     "text": [
      "['giraffe', 'gorilla', 'parrots']\n"
     ]
    }
   ],
   "source": [
    "Animals = [\"lion\", \"giraffe\", \"gorilla\", \"parrots\", \"crocodile\",\"deer\", \"swan\"]\n",
    "New = []\n",
    "i=0\n",
    "while (i!=len(Animals)-1):\n",
    "    j=Animals[i]\n",
    "    if(len(j)==7):\n",
    "        New.append(j)\n",
    "    i=i+1\n",
    "print(New)"
   ]
  },
  {
   "cell_type": "code",
   "execution_count": 4,
   "id": "57865b1e",
   "metadata": {},
   "outputs": [
    {
     "name": "stdout",
     "output_type": "stream",
     "text": [
      "['h', 'u', 'm', 'a', 'n']\n"
     ]
    }
   ],
   "source": [
    "letter = []\n",
    "\n",
    "for x in 'human':\n",
    "    letter.append(x)\n",
    "    \n",
    "print(letter)"
   ]
  },
  {
   "cell_type": "markdown",
   "id": "3b5e7214",
   "metadata": {},
   "source": [
    "<h1>List Comprehension</h1>"
   ]
  },
  {
   "cell_type": "code",
   "execution_count": 9,
   "id": "44fbc78e",
   "metadata": {},
   "outputs": [
    {
     "name": "stdout",
     "output_type": "stream",
     "text": [
      "['h', 'u', 'm', 'a', 'n']\n"
     ]
    }
   ],
   "source": [
    "letters = []\n",
    "\n",
    "letters = [letter for letter in 'human']\n",
    "print(letters)"
   ]
  },
  {
   "cell_type": "code",
   "execution_count": 51,
   "id": "47444303",
   "metadata": {},
   "outputs": [
    {
     "name": "stdout",
     "output_type": "stream",
     "text": [
      "['APPLE', 'BANANA', 'STRAWBERRY']\n"
     ]
    }
   ],
   "source": [
    "fruits = ['apple', 'banana', 'strawberry'] #Normal loop which is simplified in list comprehension in below cell.\n",
    "new_fruits = []\n",
    "\n",
    "for fruit in fruits:\n",
    "    fruitup = fruit.upper()\n",
    "    new_fruits.append(fruitup)\n",
    "    \n",
    "print(new_fruits)"
   ]
  },
  {
   "cell_type": "code",
   "execution_count": 14,
   "id": "2bf63f86",
   "metadata": {},
   "outputs": [
    {
     "name": "stdout",
     "output_type": "stream",
     "text": [
      "['APPLE', 'BANANA', 'STRAWBERRY']\n"
     ]
    }
   ],
   "source": [
    "fruits = [fruit.upper() for fruit in fruits]\n",
    "print(fruits)"
   ]
  },
  {
   "cell_type": "code",
   "execution_count": 17,
   "id": "c48cf46f",
   "metadata": {},
   "outputs": [
    {
     "name": "stdout",
     "output_type": "stream",
     "text": [
      "[True, False, False, True, False, True, True]\n",
      "[1, 0, 0, 1, 0, 1, 1]\n"
     ]
    }
   ],
   "source": [
    "bits = [True, False, False, True, False, True, True]\n",
    "new_bits = []\n",
    "\n",
    "\n",
    "for x in bits:\n",
    "    if x ==True:\n",
    "        new_bits.append(1)\n",
    "    else:\n",
    "        new_bits.append(0)\n",
    "print(bits)\n",
    "print(new_bits)"
   ]
  },
  {
   "cell_type": "code",
   "execution_count": 16,
   "id": "da7e4c9e",
   "metadata": {},
   "outputs": [
    {
     "name": "stdout",
     "output_type": "stream",
     "text": [
      "[1, 0, 0, 1, 0, 1, 1]\n"
     ]
    }
   ],
   "source": [
    "bits = [1 if bit == True else 0 for bit in bits]\n",
    "print(bits)"
   ]
  },
  {
   "cell_type": "markdown",
   "id": "42446416",
   "metadata": {},
   "source": [
    "<H2>List Comprehension with conditions</H2>"
   ]
  },
  {
   "cell_type": "code",
   "execution_count": 53,
   "id": "5fb2f048",
   "metadata": {},
   "outputs": [
    {
     "name": "stdout",
     "output_type": "stream",
     "text": [
      "HelloFromSwastika\n"
     ]
    }
   ],
   "source": [
    "name = 'HelloFromSwastika'\n",
    "\n",
    "new_name = \"\".join([i for i in  name])\n",
    "print(new_name)"
   ]
  },
  {
   "cell_type": "markdown",
   "id": "b70441c8",
   "metadata": {},
   "source": [
    "<h3>Simple if statement.</h3>"
   ]
  },
  {
   "cell_type": "code",
   "execution_count": 58,
   "id": "c89e8c9e",
   "metadata": {},
   "outputs": [
    {
     "name": "stdout",
     "output_type": "stream",
     "text": [
      "['Swastika']\n"
     ]
    }
   ],
   "source": [
    "name = ['Swastika', 'Prime', 'College']\n",
    "\n",
    "new_name = [x for x in name if 'a' in x]\n",
    "print(new_name)"
   ]
  },
  {
   "cell_type": "markdown",
   "id": "89daf776",
   "metadata": {},
   "source": [
    "<h3>if else statement.</h3>"
   ]
  },
  {
   "cell_type": "code",
   "execution_count": 31,
   "id": "1871cee1",
   "metadata": {},
   "outputs": [
    {
     "name": "stdout",
     "output_type": "stream",
     "text": [
      "Hello From Swastika\n"
     ]
    }
   ],
   "source": [
    "new_name = \"\".join([i if i.islower() else \" \" + i for i in name])[1:]\n",
    "print(new_name)\n"
   ]
  },
  {
   "cell_type": "markdown",
   "id": "0c2e825d",
   "metadata": {},
   "source": [
    "<h3>We cannot use elif in list comprehension, however, we can still do elif defining action followed by condition in the list. Here's an example.</h3>"
   ]
  },
  {
   "cell_type": "code",
   "execution_count": 48,
   "id": "2630c233",
   "metadata": {},
   "outputs": [
    {
     "name": "stdout",
     "output_type": "stream",
     "text": [
      "Hello from Swastika\n"
     ]
    }
   ],
   "source": [
    "name = 'HelloFromSwastika'\n",
    "new_name = \"\".join([i if i.islower() else \" \" + i.lower() if i in ['F'] else \" \" +i for i in name])[1:]\n",
    "print(new_name)"
   ]
  },
  {
   "cell_type": "markdown",
   "id": "b1e0e30f",
   "metadata": {},
   "source": [
    "We can replace anything in place of i.lower(). Like:"
   ]
  },
  {
   "cell_type": "code",
   "execution_count": 50,
   "id": "5875f070",
   "metadata": {},
   "outputs": [
    {
     "name": "stdout",
     "output_type": "stream",
     "text": [
      "Hello bananarom Swastika\n"
     ]
    }
   ],
   "source": [
    "name = 'HelloFromSwastika'\n",
    "new_name = \"\".join([i if i.islower() else \" \" + 'banana' if i in ['F'] else \" \" +i for i in name])[1:]\n",
    "print(new_name)"
   ]
  },
  {
   "cell_type": "code",
   "execution_count": null,
   "id": "f3288d9b",
   "metadata": {},
   "outputs": [],
   "source": []
  }
 ],
 "metadata": {
  "kernelspec": {
   "display_name": "Python 3 (ipykernel)",
   "language": "python",
   "name": "python3"
  },
  "language_info": {
   "codemirror_mode": {
    "name": "ipython",
    "version": 3
   },
   "file_extension": ".py",
   "mimetype": "text/x-python",
   "name": "python",
   "nbconvert_exporter": "python",
   "pygments_lexer": "ipython3",
   "version": "3.9.13"
  }
 },
 "nbformat": 4,
 "nbformat_minor": 5
}
